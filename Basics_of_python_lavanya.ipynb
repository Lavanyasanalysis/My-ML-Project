{
  "nbformat": 4,
  "nbformat_minor": 0,
  "metadata": {
    "colab": {
      "name": "Basics_of_python (3).ipynb",
      "provenance": [],
      "include_colab_link": true
    },
    "kernelspec": {
      "name": "python3",
      "display_name": "Python 3"
    }
  },
  "cells": [
    {
      "cell_type": "markdown",
      "metadata": {
        "id": "view-in-github",
        "colab_type": "text"
      },
      "source": [
        "<a href=\"https://colab.research.google.com/github/Lavanyasanalysis/My-ML-Project/blob/main/Basics_of_python_lavanya.ipynb\" target=\"_parent\"><img src=\"https://colab.research.google.com/assets/colab-badge.svg\" alt=\"Open In Colab\"/></a>"
      ]
    },
    {
      "cell_type": "markdown",
      "metadata": {
        "id": "e2CWWATVTFOQ"
      },
      "source": [
        "# Practice Exercise"
      ]
    },
    {
      "cell_type": "markdown",
      "metadata": {
        "id": "gxSUV29HVelr"
      },
      "source": [
        "Question 1: Let us start by printing the word \"Welcome to the practice exercise\" in python."
      ]
    },
    {
      "cell_type": "code",
      "metadata": {
        "id": "sn3vu-6dVsEP",
        "colab": {
          "base_uri": "https://localhost:8080/"
        },
        "outputId": "fb114aad-21a9-413f-c66a-e92013b179c8"
      },
      "source": [
        "# Print the statement:\n",
        "print(\"Welcome to the practice exercise\")\n"
      ],
      "execution_count": null,
      "outputs": [
        {
          "output_type": "stream",
          "name": "stdout",
          "text": [
            "Welcome to the practice exercise\n"
          ]
        }
      ]
    },
    {
      "cell_type": "markdown",
      "metadata": {
        "id": "Ys8qEL-HTMA1"
      },
      "source": [
        "Question 2: Create a string variable and print the string."
      ]
    },
    {
      "cell_type": "code",
      "metadata": {
        "id": "ypmiTaqjSu_C",
        "colab": {
          "base_uri": "https://localhost:8080/"
        },
        "outputId": "a33ddfe8-f555-435e-9d00-41361a625e4e"
      },
      "source": [
        "# Create a string variable:\n",
        "var1 = \"Lavanya\"\n",
        "\n",
        "# Print the string:\n",
        "print(var1)"
      ],
      "execution_count": null,
      "outputs": [
        {
          "output_type": "stream",
          "name": "stdout",
          "text": [
            "Lavanya\n"
          ]
        }
      ]
    },
    {
      "cell_type": "markdown",
      "metadata": {
        "id": "SCtZJrEjUyLV"
      },
      "source": [
        "Question 3: Create a string by taking user input and print the string."
      ]
    },
    {
      "cell_type": "code",
      "metadata": {
        "id": "kuNOPj11TU10",
        "colab": {
          "base_uri": "https://localhost:8080/",
          "height": 70
        },
        "outputId": "f3de6112-cbc2-45e0-eefb-3dfbe9b43980"
      },
      "source": [
        "# Create a string variable taking user input:\n",
        "var2 = input(str(\"What's your sister's name? :\"))\n",
        "\n",
        "# Print the string:\n",
        "print(var2)\n",
        "_"
      ],
      "execution_count": null,
      "outputs": [
        {
          "output_type": "stream",
          "name": "stdout",
          "text": [
            "What's your sister's name? :yash\n",
            "yash\n"
          ]
        },
        {
          "output_type": "execute_result",
          "data": {
            "text/plain": [
              "'1.8'"
            ],
            "application/vnd.google.colaboratory.intrinsic+json": {
              "type": "string"
            }
          },
          "metadata": {},
          "execution_count": 16
        }
      ]
    },
    {
      "cell_type": "markdown",
      "metadata": {
        "id": "DImK3bXbVQmK"
      },
      "source": [
        "Question 4: Print the pattern given below:\n",
        "\n",
        "\n",
        "\n",
        "![image.png](data:image/png;base64,iVBORw0KGgoAAAANSUhEUgAAADIAAABFCAYAAAAIGLXIAAACvklEQVRoBe1abW7DIAzljJF6oSpXSY/SHWQ/egxPgA3GfAwxEO3kSVP4NLz3TGInNfBP/sw/wQEK5N2UVEVUkUUMqGstInbYrCoyTN2iiarIImKHzaoiPdS9HgcYY+D86hn9tzGLFHnBdTNwPC44PxmIVcKr8PxsINFJFEjkorO06IzQ6qoIMdF9VUWaVH2d7vlhnyH8f+XzZLEiTbhTOxXIVDonGFNFJpA41YQqMpXOCcZUkQkkTjWhikAShhxwfTOCvy84eHhyu+DFukORxtX6w8DfC4OK2PD8hCfa97l5rMtln3cD5k6jqdenw+f9BLMPCG0Gr45ZoQob4oAKIK7NArDKfgYQZJ6/SeHA3weI32jmOvwMCcatqx0PPDXvAsT5v9go8ypfdKDwDMmNy3o2ua9h8LB74w4EO/T1Je3NwZ8hPydNuCj5+kviNQykHwRAONglpFsVofs/f1bYMt2ZnCsx1luutxVIidnNbcOutXnf2fIKJKNkc4MqslmAbHlVJKNkc4MqslmAbPmqIj7rY2FG6aNmEqrExKoWGMag0H8AomDRyMAzsdv3VbgJJOQMGX4An7PHzZeGhDaeSEGeaDngFKeB+MqVzA0Ws8IgELuZThCA0W+y0XQuT4VLkbIF2iQVoP7jTGuwOtmxdMKFPwhwLlKNcGMuQjQmKQC6EbkdB0XjS23UR9emItGHWYhuZ2KYHoFW0t1MDVo22jCYcIUe6UoINKQIYWBaqAJJh4mNlnKIUpv0dzTqFCEFM1LQFSnXuV3wbHkH2uwEIvwcXSt5U1UAUvJ3kIzbjTgw7fdi5HopwbHWBwTljca8QtK1Yt0uIO4+tGZmCyBRiMbh1fWFG4XoZNUKEHQlklf6sTOQPgtSEO3N0RkLZ5DcrMMu23tSrABJxnxERYG8m0yqiCqyiAF1rUXEDpv9AT7GtDRI+0oLAAAAAElFTkSuQmCC)"
      ]
    },
    {
      "cell_type": "code",
      "metadata": {
        "id": "DkSe8TvcVPMK",
        "colab": {
          "base_uri": "https://localhost:8080/"
        },
        "outputId": "14b7393a-8eb1-4dc8-c0f3-5e586e6e8363"
      },
      "source": [
        "# Print the pattern shown in the question above:\n",
        "print (\"\"\"             1\n",
        "            234\n",
        "           56789\"\"\")"
      ],
      "execution_count": null,
      "outputs": [
        {
          "output_type": "stream",
          "name": "stdout",
          "text": [
            "             1\n",
            "            234\n",
            "           56789\n"
          ]
        }
      ]
    },
    {
      "cell_type": "markdown",
      "metadata": {
        "id": "wmEibYOCXoUV"
      },
      "source": [
        "Question 5: Print the '#' symbol 15 times without having to type it for 15 times."
      ]
    },
    {
      "cell_type": "code",
      "metadata": {
        "id": "ca4yCx9OXfyt",
        "colab": {
          "base_uri": "https://localhost:8080/",
          "height": 35
        },
        "outputId": "21275358-0bf2-417e-a9df-b4df7d323530"
      },
      "source": [
        "# Print the pattern shown in the question above:\n",
        "\"#\"*15"
      ],
      "execution_count": null,
      "outputs": [
        {
          "output_type": "execute_result",
          "data": {
            "text/plain": [
              "'###############'"
            ],
            "application/vnd.google.colaboratory.intrinsic+json": {
              "type": "string"
            }
          },
          "metadata": {},
          "execution_count": 8
        }
      ]
    },
    {
      "cell_type": "markdown",
      "metadata": {
        "id": "pCh5QAyGYdWe"
      },
      "source": [
        "Question 6: Take the user input to print the current date"
      ]
    },
    {
      "cell_type": "code",
      "metadata": {
        "id": "uO-kTgb7XoJZ",
        "colab": {
          "base_uri": "https://localhost:8080/"
        },
        "outputId": "5b63492c-0fa0-4216-d2e6-ca60b3391c8e"
      },
      "source": [
        "# Take the user input into a string:\n",
        "tod_date = input(str(\"What's today's date? :\"))\n",
        "\n",
        "# Print the date:\n",
        "print(tod_date)"
      ],
      "execution_count": null,
      "outputs": [
        {
          "output_type": "stream",
          "name": "stdout",
          "text": [
            "What's today's date? :3/4/2022\n",
            "3/4/2022\n"
          ]
        }
      ]
    },
    {
      "cell_type": "markdown",
      "metadata": {
        "id": "WzkRCuNYZOnp"
      },
      "source": [
        "Question 7: Type cast the interger 1.8 into a string and print the result."
      ]
    },
    {
      "cell_type": "code",
      "metadata": {
        "id": "tv7dzZX2YdFH",
        "colab": {
          "base_uri": "https://localhost:8080/",
          "height": 35
        },
        "outputId": "0cbe4b2d-1727-4cd6-a452-73b0a926974f"
      },
      "source": [
        "# Store the interger as a varaible:\n",
        "int1 = 1.8\n",
        "\n",
        "# Typecast the integer:\n",
        "int1 = str(int1)\n",
        "\n",
        "# Print the result:\n",
        "int1"
      ],
      "execution_count": null,
      "outputs": [
        {
          "output_type": "execute_result",
          "data": {
            "text/plain": [
              "'1.8'"
            ],
            "application/vnd.google.colaboratory.intrinsic+json": {
              "type": "string"
            }
          },
          "metadata": {},
          "execution_count": 14
        }
      ]
    },
    {
      "cell_type": "markdown",
      "metadata": {
        "id": "IP5LMF00bATM"
      },
      "source": [
        "Question 8: Find the product of two numbers input by the user."
      ]
    },
    {
      "cell_type": "code",
      "metadata": {
        "id": "_REzzqdwa3Gp",
        "colab": {
          "base_uri": "https://localhost:8080/"
        },
        "outputId": "4e3190d4-dc5e-4eba-ca9e-75e9b00f0f1a"
      },
      "source": [
        "# Take input of the first number and store it in a variable:\n",
        "num1 = float(input(\"Enter any number: \"))\n",
        "\n",
        "# Take input of the second number and store it in a variable:\n",
        "num2 = float(input(\"Enter any number: \"))\n",
        "\n",
        "# You will need to typecast the input strings into integers\n",
        "# Calculate the product:\n",
        "finalval = num1*num2\n",
        "# Print the result:\n",
        "print(finalval)"
      ],
      "execution_count": null,
      "outputs": [
        {
          "output_type": "stream",
          "name": "stdout",
          "text": [
            "Enter any number: 4\n",
            "Enter any number: 6\n",
            "24.0\n"
          ]
        }
      ]
    },
    {
      "cell_type": "markdown",
      "metadata": {
        "id": "041d-OjCcXt9"
      },
      "source": [
        "Question 9: Calculate the remainder of the number 6 when divided by the number 4."
      ]
    },
    {
      "cell_type": "code",
      "metadata": {
        "id": "rLigN9eFb1JT",
        "colab": {
          "base_uri": "https://localhost:8080/"
        },
        "outputId": "632a13da-e824-4c37-88b4-42e7be474824"
      },
      "source": [
        "# Find the modulus and print the result:\n",
        "6%4"
      ],
      "execution_count": null,
      "outputs": [
        {
          "output_type": "execute_result",
          "data": {
            "text/plain": [
              "2"
            ]
          },
          "metadata": {},
          "execution_count": 18
        }
      ]
    },
    {
      "cell_type": "markdown",
      "metadata": {
        "id": "xyFL6iLUczpm"
      },
      "source": [
        "Question 10: Solve the error in code below and print the correct result."
      ]
    },
    {
      "cell_type": "code",
      "metadata": {
        "id": "DX_mc1H8cyRC",
        "colab": {
          "base_uri": "https://localhost:8080/"
        },
        "outputId": "d8c1597e-81ca-4067-cacb-135f7eb8bcba"
      },
      "source": [
        "# Given:\n",
        "# print('I can't study any longer')\n",
        "\n",
        "# Corrected solution:\n",
        "print(\"I can't study any longer\")"
      ],
      "execution_count": null,
      "outputs": [
        {
          "output_type": "stream",
          "name": "stdout",
          "text": [
            "I can't study any longer\n"
          ]
        }
      ]
    },
    {
      "cell_type": "markdown",
      "metadata": {
        "id": "MsVRoye5daZG"
      },
      "source": [
        "Question 11: Print the following statement using only 1 print statement:\n",
        "\n",
        "Hello\n",
        "\n",
        "Good Morning"
      ]
    },
    {
      "cell_type": "code",
      "metadata": {
        "id": "PqnV_g10dOzS",
        "colab": {
          "base_uri": "https://localhost:8080/"
        },
        "outputId": "a265233b-5e9a-4754-ee83-d085d50d87a7"
      },
      "source": [
        "# Print the required statement:\\\n",
        "print(\"Hello \\nGood Morning\")"
      ],
      "execution_count": null,
      "outputs": [
        {
          "output_type": "stream",
          "name": "stdout",
          "text": [
            "Hello \n",
            "Good Morning\n"
          ]
        }
      ]
    },
    {
      "cell_type": "markdown",
      "metadata": {
        "id": "r8xXSTHRd5RT"
      },
      "source": [
        "Question 12: Concatenate the given strings and print the result:\n"
      ]
    },
    {
      "cell_type": "code",
      "metadata": {
        "id": "PuwSE5uidy24",
        "colab": {
          "base_uri": "https://localhost:8080/"
        },
        "outputId": "cec3e84f-ed0f-4a1b-e521-19478a751feb"
      },
      "source": [
        "# Given below are the two strings:\n",
        "string1= 'Welcome to upgrad'\n",
        "string2= 'coding practice session.'\n",
        "\n",
        "# Concatenate and print the result:\n",
        "print(string1 + \" \" + string2)"
      ],
      "execution_count": null,
      "outputs": [
        {
          "output_type": "stream",
          "name": "stdout",
          "text": [
            "Welcome to upgrad coding practice session.\n"
          ]
        }
      ]
    },
    {
      "cell_type": "markdown",
      "metadata": {
        "id": "QpkUZwCsefdt"
      },
      "source": [
        "Question 13: Find the length of string given below and print the result.\n",
        "\n",
        "---\n",
        "\n",
        "\n"
      ]
    },
    {
      "cell_type": "code",
      "metadata": {
        "id": "24Am9RaseEXP",
        "colab": {
          "base_uri": "https://localhost:8080/"
        },
        "outputId": "7640eb0a-dd6b-4a73-b06d-c018e07536b3"
      },
      "source": [
        "# Given below is the string:\n",
        "string='Hi, I hope you are having a great learning experience.'\n",
        "# Calculate and print the length:\n",
        "len(string)"
      ],
      "execution_count": null,
      "outputs": [
        {
          "output_type": "execute_result",
          "data": {
            "text/plain": [
              "54"
            ]
          },
          "metadata": {},
          "execution_count": 26
        }
      ]
    },
    {
      "cell_type": "markdown",
      "metadata": {
        "id": "KoVEaa4QfMb_"
      },
      "source": [
        "Question 14: Create a string of length=10. Obtain the fifth and seventh character of the string. Concatenate the characters and form a new string. Print the new string."
      ]
    },
    {
      "cell_type": "code",
      "metadata": {
        "id": "U-356eSce6UM",
        "colab": {
          "base_uri": "https://localhost:8080/"
        },
        "outputId": "0383617f-785b-4a43-ad8a-19fa4621aba2"
      },
      "source": [
        "# Create a string of length 10:\n",
        "apple = \"Pineapplee\"\n",
        "\n",
        "# You can verify the length:\n",
        "len(apple)\n",
        "\n",
        "# Obtain the fifth letter and store it into a new string:\n",
        "app1 = apple[4]\n",
        "# Obtain the seventh letter and store it into a new string:\n",
        "app2 = apple[6]\n",
        "# Concatenate the two strings:\n",
        "app3 = app1 + app2\n",
        "# Print the result:\n",
        "print(app3)"
      ],
      "execution_count": null,
      "outputs": [
        {
          "output_type": "stream",
          "name": "stdout",
          "text": [
            "ap\n"
          ]
        }
      ]
    },
    {
      "cell_type": "markdown",
      "metadata": {
        "id": "-9wQ6PQtzNi3"
      },
      "source": [
        "Question 15: Given below is a string. Perform the following operations and print the results:\n",
        "1. Remove the extra spaces from the string and print the new string.\n",
        "2. Find the length of new string\n",
        "3. Remove the last 5 characters of the new string\n",
        "4. Find the 15th character of the new string\n",
        "5. Compute the result of concatenation of the first and last letter of the new string.\n"
      ]
    },
    {
      "cell_type": "code",
      "metadata": {
        "id": "T9GOWY_JyErD",
        "colab": {
          "base_uri": "https://localhost:8080/",
          "height": 53
        },
        "outputId": "c430534e-4dbe-4781-d32b-a6a60b24c23a"
      },
      "source": [
        "# Given below is the string:\n",
        "line= '     I hope you enjoyed this practice session.'\n",
        "\n",
        "# Removing extra spaces:\n",
        "line1 = line.strip()\n",
        "\n",
        "# Print the result:\n",
        "print(line1)\n",
        "\n",
        "# Calculate the length:\n",
        "len(line1)\n",
        "# Slice the string to remove the last 5 characters:\n",
        "line2 = line1[:36]\n",
        "# Print the result:\n",
        "line2\n",
        "# Print the 15th character of the string:\n",
        "line2[14]\n",
        "# Print the concatenation of first and last character of resulting string:\n",
        "line2[0]+line2[-1]"
      ],
      "execution_count": null,
      "outputs": [
        {
          "output_type": "stream",
          "name": "stdout",
          "text": [
            "I hope you enjoyed this practice session.\n"
          ]
        },
        {
          "output_type": "execute_result",
          "data": {
            "text/plain": [
              "'Is'"
            ],
            "application/vnd.google.colaboratory.intrinsic+json": {
              "type": "string"
            }
          },
          "metadata": {},
          "execution_count": 33
        }
      ]
    },
    {
      "cell_type": "code",
      "source": [
        "line= '     I hope you enjoyed this practice session.'\n",
        "line1 = line.strip()"
      ],
      "metadata": {
        "id": "YElTnddXm3Jd"
      },
      "execution_count": null,
      "outputs": []
    },
    {
      "cell_type": "code",
      "source": [
        "print(line1)\n",
        "len(line1)"
      ],
      "metadata": {
        "colab": {
          "base_uri": "https://localhost:8080/"
        },
        "id": "KmzbADRpn4tz",
        "outputId": "9aaaf58c-7fb3-4154-f9be-f4e2fb0c6707"
      },
      "execution_count": null,
      "outputs": [
        {
          "output_type": "stream",
          "name": "stdout",
          "text": [
            "I hope you enjoyed this practice session.\n"
          ]
        },
        {
          "output_type": "execute_result",
          "data": {
            "text/plain": [
              "41"
            ]
          },
          "metadata": {},
          "execution_count": 40
        }
      ]
    },
    {
      "cell_type": "code",
      "source": [
        "line2 = line1[:36]"
      ],
      "metadata": {
        "id": "MZue6c6dn-PW"
      },
      "execution_count": null,
      "outputs": []
    },
    {
      "cell_type": "code",
      "source": [
        "len(line2)"
      ],
      "metadata": {
        "colab": {
          "base_uri": "https://localhost:8080/"
        },
        "id": "zfmJXg7HoB0w",
        "outputId": "f560dbe1-005b-4cac-aa01-023ceacbb56e"
      },
      "execution_count": null,
      "outputs": [
        {
          "output_type": "execute_result",
          "data": {
            "text/plain": [
              "36"
            ]
          },
          "metadata": {},
          "execution_count": 38
        }
      ]
    },
    {
      "cell_type": "code",
      "source": [
        "line2[14]"
      ],
      "metadata": {
        "colab": {
          "base_uri": "https://localhost:8080/",
          "height": 35
        },
        "id": "QqPyrovioDhg",
        "outputId": "2797c1a2-a06d-478a-9c14-d74c45bf7ddf"
      },
      "execution_count": null,
      "outputs": [
        {
          "output_type": "execute_result",
          "data": {
            "text/plain": [
              "'o'"
            ],
            "application/vnd.google.colaboratory.intrinsic+json": {
              "type": "string"
            }
          },
          "metadata": {},
          "execution_count": 41
        }
      ]
    },
    {
      "cell_type": "code",
      "source": [
        "line2[0]+line2[-1]"
      ],
      "metadata": {
        "colab": {
          "base_uri": "https://localhost:8080/",
          "height": 35
        },
        "id": "ZGROl6anoVxG",
        "outputId": "395af205-b3b1-4dd4-f776-4a39eb878e29"
      },
      "execution_count": null,
      "outputs": [
        {
          "output_type": "execute_result",
          "data": {
            "text/plain": [
              "'Is'"
            ],
            "application/vnd.google.colaboratory.intrinsic+json": {
              "type": "string"
            }
          },
          "metadata": {},
          "execution_count": 42
        }
      ]
    },
    {
      "cell_type": "code",
      "source": [
        " "
      ],
      "metadata": {
        "id": "jQb1nBtgoYWd"
      },
      "execution_count": null,
      "outputs": []
    }
  ]
}